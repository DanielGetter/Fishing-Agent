{
 "cells": [
  {
   "cell_type": "code",
   "execution_count": 2,
   "metadata": {},
   "outputs": [],
   "source": [
    "from __future__ import absolute_import, division, print_function\n",
    "\n",
    "import gym_fishing\n",
    "import matplotlib.pyplot as plt\n",
    "\n",
    "import gym\n",
    "import base64\n",
    "import numpy as np\n",
    "import tensorflow as tf\n",
    "\n",
    "from tf_agents.agents.dqn import dqn_agent\n",
    "from tf_agents.drivers import dynamic_step_driver\n",
    "from tf_agents.environments import suite_gym\n",
    "from tf_agents.environments import tf_py_environment\n",
    "from tf_agents.eval import metric_utils\n",
    "from tf_agents.metrics import tf_metrics\n",
    "from tf_agents.networks import q_network\n",
    "from tf_agents.policies import random_tf_policy\n",
    "from tf_agents.replay_buffers import tf_uniform_replay_buffer\n",
    "from tf_agents.trajectories import trajectory\n",
    "from tf_agents.utils import common"
   ]
  },
  {
   "cell_type": "code",
   "execution_count": 26,
   "metadata": {},
   "outputs": [],
   "source": [
    "#### Acitvate compatibility settings \n",
    "##tf.compat.v1.enable_v2_behavior()\n",
    "### change default float\n",
    "## tf.keras.backend.set_floatx('float64')\n",
    "\n",
    "## Disable GPU, optional\n",
    "#import os\n",
    "#os.environ[\"CUDA_VISIBLE_DEVICES\"] = \"-1\"\n",
    "\n",
    "\n",
    "## Grow memory as needed instead of pre-allocating (e.g. allows concurrent GPU usage)\n",
    "## (TF2 version.  See https://stackoverflow.com/a/59126638/258662)\n",
    "# gpu_devices = tf.config.experimental.list_physical_devices('GPU')\n",
    "# tf.config.experimental.set_memory_growth(gpu_devices[0], True)\n",
    "\n",
    "tf.version.VERSION\n",
    "\n",
    "num_iterations = 20000             # @param {type:\"integer\"}\n",
    "initial_collect_steps = 1000        # @param {type:\"integer\"} \n",
    "collect_steps_per_iteration = 1     # @param {type:\"integer\"}\n",
    "replay_buffer_max_length = 200000  # @param {type:\"integer\"}\n",
    "batch_size = 200                     # @param {type:\"integer\"}\n",
    "learning_rate = 1e-3                # @param {type:\"number\"}\n",
    "log_interval = 500                  # @param {type:\"integer\"}\n",
    "num_eval_episodes = 100            # @param {type:\"integer\"}\n",
    "eval_interval = 1000                # @param {type:\"integer\"}\n",
    "discount = 0.99                     # @param {type: \"float\"}\n",
    "                        \n",
    "## Environment\n",
    "\n",
    "env_name = 'fishing-v0'\n",
    "env = suite_gym.load(env_name, discount = discount)\n",
    "env.reset()\n",
    "\n",
    "\n",
    "train_py_env = suite_gym.load(env_name, discount = discount)\n",
    "eval_py_env = suite_gym.load(env_name, discount = discount)\n",
    "\n",
    "#uses TFPyEnvironment wrapper to convert to tensors, so compatible with TF\n",
    "train_env = tf_py_environment.TFPyEnvironment(train_py_env)\n",
    "eval_env = tf_py_environment.TFPyEnvironment(eval_py_env)\n",
    "\n",
    "fc_layer_params = (30,30)\n",
    "q_net = q_network.QNetwork(\n",
    "    train_env.observation_spec(),\n",
    "    train_env.action_spec(),\n",
    "    fc_layer_params=fc_layer_params)\n",
    "\n",
    "#changed optimizer syntax to ver 2.2.0 syntax, added lr exponential decay schedule\n",
    "# lr_schedule = tf.keras.optimizers.schedules.ExponentialDecay(\n",
    "#     initial_learning_rate=0.001,\n",
    "#     decay_steps=1000,\n",
    "#     decay_rate=0.09,\n",
    "#     staircase=True)\n",
    "\n",
    "optimizer = tf.keras.optimizers.Adam(learning_rate=learning_rate)\n",
    "train_step_counter = tf.Variable(0)\n",
    "\n",
    "agent = dqn_agent.DqnAgent(\n",
    "    train_env.time_step_spec(),\n",
    "    train_env.action_spec(),\n",
    "    q_network=q_net,\n",
    "    optimizer=optimizer,\n",
    "    td_errors_loss_fn=common.element_wise_squared_loss,\n",
    "    train_step_counter=train_step_counter)\n",
    "\n",
    "agent.initialize()\n",
    "\n",
    "eval_policy = agent.policy\n",
    "collect_policy = agent.collect_policy\n",
    "\n",
    "random_policy = random_tf_policy.RandomTFPolicy(train_env.time_step_spec(),\n",
    "                                                train_env.action_spec())\n",
    "\n",
    "# example_environment = tf_py_environment.TFPyEnvironment(\n",
    "#     suite_gym.load(env_name, discount = discount))\n",
    "\n",
    "# time_step = example_environment.reset()\n",
    "# random_policy.action(time_step)"
   ]
  },
  {
   "cell_type": "code",
   "execution_count": 27,
   "metadata": {},
   "outputs": [],
   "source": [
    "#@test {\"skip\": true}\n",
    "def compute_avg_return(environment, policy, num_episodes=100):\n",
    "    total_return = 0.0\n",
    "    for _ in range(num_episodes):\n",
    "        time_step = environment.reset()\n",
    "        episode_return = 0.0\n",
    "        while not time_step.is_last():\n",
    "            action_step = policy.action(time_step)\n",
    "            time_step = environment.step(action_step.action)\n",
    "            episode_return += time_step.reward\n",
    "        total_return += episode_return\n",
    "\n",
    "    avg_return = total_return / num_episodes\n",
    "    return avg_return.numpy()[0]\n",
    "\n",
    "#compute_avg_return(eval_env, random_policy, num_eval_episodes)"
   ]
  },
  {
   "cell_type": "code",
   "execution_count": 28,
   "metadata": {},
   "outputs": [
    {
     "data": {
      "text/plain": [
       "<tf.Variable 'UnreadVariable' shape=() dtype=int32, numpy=0>"
      ]
     },
     "execution_count": 28,
     "metadata": {},
     "output_type": "execute_result"
    }
   ],
   "source": [
    "def simulate(environment, policy):\n",
    "    total_return = 0.0\n",
    "    time_step = environment.reset()\n",
    "    episode_return = 0.0\n",
    "\n",
    "    output = np.zeros(shape = (1000, 4))\n",
    "    for it in range(1000):\n",
    "        action_step = policy.action(time_step)\n",
    "        time_step = environment.step(action_step.action)\n",
    "        episode_return += time_step.reward\n",
    "        output[it] = (it, time_step.observation, action_step.action, episode_return)\n",
    "\n",
    "    return output\n",
    "\n",
    "#out = simulate(eval_env, random_policy)\n",
    "\n",
    "\n",
    "\n",
    "replay_buffer = tf_uniform_replay_buffer.TFUniformReplayBuffer(\n",
    "    data_spec = agent.collect_data_spec,\n",
    "    batch_size = train_env.batch_size,\n",
    "    max_length = replay_buffer_max_length)\n",
    "\n",
    "\n",
    "#@test {\"skip\": true}\n",
    "def collect_step(environment, policy, buffer):\n",
    "    time_step = environment.current_time_step()\n",
    "    action_step = policy.action(time_step)\n",
    "    next_time_step = environment.step(action_step.action)\n",
    "    traj = trajectory.from_transition(time_step, action_step, next_time_step)\n",
    "\n",
    "  # Add trajectory to the replay buffer\n",
    "    buffer.add_batch(traj)\n",
    "\n",
    "def collect_data(env, policy, buffer, steps):\n",
    "    for _ in range(steps):\n",
    "        collect_step(env, policy, buffer)\n",
    "\n",
    "collect_data(train_env, random_policy, replay_buffer, steps=100)\n",
    "\n",
    "# Dataset generates trajectories with shape [Bx2x...]\n",
    "dataset = replay_buffer.as_dataset(\n",
    "    num_parallel_calls=3, \n",
    "    sample_batch_size=batch_size, \n",
    "    num_steps=2).prefetch(3)\n",
    "\n",
    "iterator = iter(dataset)\n",
    "\n",
    "# (Optional) Optimize by wrapping some of the code in a graph using TF function.\n",
    "agent.train = common.function(agent.train)\n",
    "# Reset the train step\n",
    "agent.train_step_counter.assign(0)\n",
    "# Evaluate the agent's policy once before training.\n",
    "# avg_return = compute_avg_return(eval_env, agent.policy, num_eval_episodes)\n",
    "# returns = [avg_return]\n",
    "\n",
    "\n"
   ]
  },
  {
   "cell_type": "code",
   "execution_count": 29,
   "metadata": {},
   "outputs": [
    {
     "name": "stdout",
     "output_type": "stream",
     "text": [
      "step = 500: loss = 0.00029798492323607206\n",
      "step = 1000: loss = 0.0006733463960699737\n",
      "step = 1000: Average Return = 1.0419764518737793\n",
      "step = 1500: loss = 0.0006147442036308348\n",
      "step = 2000: loss = 0.0032725816126912832\n",
      "step = 2000: Average Return = 2.753514289855957\n",
      "step = 2500: loss = 0.02686837874352932\n",
      "step = 3000: loss = 0.01006860937923193\n",
      "step = 3000: Average Return = 24.385906219482422\n",
      "step = 3500: loss = 0.007771049626171589\n",
      "step = 4000: loss = 0.005936387926340103\n",
      "step = 4000: Average Return = 24.502098083496094\n",
      "step = 4500: loss = 0.009775999002158642\n",
      "step = 5000: loss = 0.012310607358813286\n",
      "step = 5000: Average Return = 24.405933380126953\n",
      "step = 5500: loss = 0.009863805957138538\n",
      "step = 6000: loss = 0.00748200761154294\n",
      "step = 6000: Average Return = 24.22732925415039\n",
      "step = 6500: loss = 0.012675737962126732\n",
      "step = 7000: loss = 0.007186373695731163\n",
      "step = 7000: Average Return = 24.290315628051758\n",
      "step = 7500: loss = 0.007164540700614452\n",
      "step = 8000: loss = 0.008986840024590492\n",
      "step = 8000: Average Return = 22.211318969726562\n",
      "step = 8500: loss = 0.011908842250704765\n",
      "step = 9000: loss = 0.008635195903480053\n",
      "step = 9000: Average Return = 23.64661407470703\n",
      "step = 9500: loss = 0.01310627069324255\n",
      "step = 10000: loss = 0.005936931818723679\n",
      "step = 10000: Average Return = 22.432065963745117\n",
      "step = 10500: loss = 0.00491247046738863\n",
      "step = 11000: loss = 0.003603114513680339\n",
      "step = 11000: Average Return = 9.093793869018555\n",
      "step = 11500: loss = 0.005681326612830162\n",
      "step = 12000: loss = 0.0033382372930645943\n",
      "step = 12000: Average Return = 23.906078338623047\n",
      "step = 12500: loss = 0.04204489663243294\n",
      "step = 13000: loss = 0.004639151506125927\n",
      "step = 13000: Average Return = 23.8664608001709\n",
      "step = 13500: loss = 0.004402836784720421\n",
      "step = 14000: loss = 0.007682377006858587\n",
      "step = 14000: Average Return = 22.708559036254883\n",
      "step = 14500: loss = 0.006329012103378773\n",
      "step = 15000: loss = 0.046670280396938324\n",
      "step = 15000: Average Return = 23.672080993652344\n",
      "step = 15500: loss = 0.004028646741062403\n",
      "step = 16000: loss = 0.004102913197129965\n",
      "step = 16000: Average Return = 24.433935165405273\n",
      "step = 16500: loss = 0.006161085329949856\n",
      "step = 17000: loss = 0.04060224071145058\n",
      "step = 17000: Average Return = 3.5508129596710205\n",
      "step = 17500: loss = 0.006306717172265053\n",
      "step = 18000: loss = 0.005274055525660515\n",
      "step = 18000: Average Return = 24.173301696777344\n",
      "step = 18500: loss = 0.004477652721107006\n",
      "step = 19000: loss = 0.004156319424510002\n",
      "step = 19000: Average Return = 24.203107833862305\n",
      "step = 19500: loss = 0.005571358371526003\n",
      "step = 20000: loss = 0.0036224948707967997\n",
      "step = 20000: Average Return = 24.429798126220703\n"
     ]
    },
    {
     "data": {
      "image/png": "[encoded data removed]",
      "text/plain": [
       "<Figure size 432x288 with 1 Axes>"
      ]
     },
     "metadata": {
      "needs_background": "light"
     },
     "output_type": "display_data"
    }
   ],
   "source": [
    "returns = []\n",
    "for _ in range(num_iterations):\n",
    "  # Collect a few steps using collect_policy and save to the replay buffer.\n",
    "    for _ in range(collect_steps_per_iteration):\n",
    "        collect_step(train_env, agent.collect_policy, replay_buffer)\n",
    "\n",
    "  # Sample a batch of data from the buffer and update the agent's network.\n",
    "    experience, unused_info = next(iterator)\n",
    "    train_loss = agent.train(experience).loss\n",
    "\n",
    "    step = agent.train_step_counter.numpy()\n",
    "\n",
    "    if step % log_interval == 0:\n",
    "        print('step = {0}: loss = {1}'.format(step, train_loss))\n",
    "\n",
    "    if step % eval_interval == 0:\n",
    "        avg_return = compute_avg_return(eval_env, agent.policy, num_eval_episodes)\n",
    "        print('step = {0}: Average Return = {1}'.format(step, avg_return))\n",
    "        returns.append(avg_return)\n",
    "\n",
    "\n",
    "### Simulate policy\n",
    "out = simulate(eval_env, agent.policy)\n",
    "\n",
    "## Plot\n",
    "plt.plot(out[:,1])\n",
    "plt.ylabel('state')\n",
    "plt.savefig('state.png', bbox_inches='tight')\n",
    "\n",
    "plt.plot(out[:,2])\n",
    "plt.ylabel('action')\n",
    "plt.savefig('action.png', bbox_inches='tight')\n",
    "\n",
    "plt.plot(out[:,3])\n",
    "plt.ylabel('reward')\n",
    "plt.savefig('reward.png', bbox_inches='tight')\n"
   ]
  },
  {
   "cell_type": "code",
   "execution_count": 31,
   "metadata": {},
   "outputs": [
    {
     "data": {
      "text/plain": [
       "[<matplotlib.lines.Line2D at 0x10c94e510>]"
      ]
     },
     "execution_count": 31,
     "metadata": {},
     "output_type": "execute_result"
    },
    {
     "data": {
      "image/png": "[encoded data removed]",
      "text/plain": [
       "<Figure size 432x288 with 1 Axes>"
      ]
     },
     "metadata": {
      "needs_background": "light"
     },
     "output_type": "display_data"
    }
   ],
   "source": [
    "plt.plot(out[:,3])"
   ]
  },
  {
   "cell_type": "code",
   "execution_count": 34,
   "metadata": {},
   "outputs": [
    {
     "data": {
      "text/plain": [
       "1000"
      ]
     },
     "execution_count": 34,
     "metadata": {},
     "output_type": "execute_result"
    }
   ],
   "source": [
    "len(out[:,3])"
   ]
  },
  {
   "cell_type": "code",
   "execution_count": 35,
   "metadata": {},
   "outputs": [
    {
     "data": {
      "text/plain": [
       "[1.0419765,\n",
       " 2.7535143,\n",
       " 24.385906,\n",
       " 24.502098,\n",
       " 24.405933,\n",
       " 24.22733,\n",
       " 24.290316,\n",
       " 22.211319,\n",
       " 23.646614,\n",
       " 22.432066,\n",
       " 9.093794,\n",
       " 23.906078,\n",
       " 23.86646,\n",
       " 22.708559,\n",
       " 23.672081,\n",
       " 24.433935,\n",
       " 3.550813,\n",
       " 24.173302,\n",
       " 24.203108,\n",
       " 24.429798]"
      ]
     },
     "execution_count": 35,
     "metadata": {},
     "output_type": "execute_result"
    }
   ],
   "source": [
    "returns"
   ]
  },
  {
   "cell_type": "code",
   "execution_count": 50,
   "metadata": {},
   "outputs": [
    {
     "data": {
      "image/png": "[encoded data removed]",
      "text/plain": [
       "<Figure size 432x288 with 1 Axes>"
      ]
     },
     "metadata": {
      "needs_background": "light"
     },
     "output_type": "display_data"
    }
   ],
   "source": [
    "x = range(0,20000,1000)\n",
    "plt.plot(x,returns)\n",
    "plt.xlabel(\"Iteration\")\n",
    "plt.ylabel(\"Average Return\")\n",
    "plt.title(\"Tuned Avg Return First Attempt\");\n",
    "plt.savefig('tuned_reward.png', bbox_inches='tight')"
   ]
  },
  {
   "cell_type": "code",
   "execution_count": null,
   "metadata": {},
   "outputs": [],
   "source": []
  }
 ],
 "metadata": {
  "kernelspec": {
   "display_name": "Python 3",
   "language": "python",
   "name": "python3"
  },
  "language_info": {
   "codemirror_mode": {
    "name": "ipython",
    "version": 3
   },
   "file_extension": ".py",
   "mimetype": "text/x-python",
   "name": "python",
   "nbconvert_exporter": "python",
   "pygments_lexer": "ipython3",
   "version": "3.7.6"
  }
 },
 "nbformat": 4,
 "nbformat_minor": 4
}
